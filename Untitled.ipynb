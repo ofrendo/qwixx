{
 "cells": [
  {
   "cell_type": "code",
   "execution_count": 433,
   "metadata": {
    "scrolled": true
   },
   "outputs": [],
   "source": [
    "import traceback\n",
    "import random\n",
    "import gym\n",
    "from gym.envs.registration import register\n",
    "#del gym.registry.env_specs[\"Qwixx-v0\"]\n",
    "import matplotlib.pyplot as plt\n",
    "from multiprocessing import Pool\n",
    "import math\n",
    "import numpy as np\n",
    "\n",
    "import gym_qwixx\n",
    "from gym_qwixx.envs.qwixx_env import QwixxEnv\n",
    "import qwixx_agent_random\n",
    "from qwixx_agent_random import QwixxAgentRandom\n",
    "import qwixx_agent_mcts\n",
    "from qwixx_agent_mcts import QwixxAgentMCTS\n",
    "import qwixx_game_performer\n",
    "from qwixx_game_performer import QwixxGamePerformer\n",
    "\n",
    "\n",
    "import importlib\n",
    "importlib.reload(gym_qwixx.envs.qwixx_env)\n",
    "importlib.reload(qwixx_agent_random)\n",
    "importlib.reload(qwixx_agent_mcts)\n",
    "importlib.reload(qwixx_game_performer)\n",
    "\n",
    "\n",
    "id = random.randint(0, 100000)\n",
    "\n",
    "register(\n",
    "    id='Qwixx-v' + str(id),\n",
    "    entry_point='gym_qwixx.envs.qwixx_env:QwixxEnv',\n",
    ")\n",
    "\n",
    "env = gym.make('Qwixx-v' + str(id))\n",
    "\n"
   ]
  },
  {
   "cell_type": "code",
   "execution_count": 338,
   "metadata": {},
   "outputs": [
    {
     "data": {
      "text/plain": [
       "{'white1': 6, 'white2': 2, 'red': 1, 'yellow': 3, 'green': 5, 'blue': 3}"
      ]
     },
     "metadata": {},
     "output_type": "display_data"
    },
    {
     "data": {
      "text/plain": [
       "[[array([0., 0., 0., 0., 0., 1., 0., 0., 0., 0., 0.]),\n",
       "  array([0., 0., 0., 0., 0., 0., 0., 0., 0., 0., 1.]),\n",
       "  array([0., 0., 0., 0., 0., 0., 0., 0., 0., 0., 0.]),\n",
       "  array([0., 0., 0., 0., 0., 0., 0., 0., 0., 0., 0.]),\n",
       "  array([0., 0., 0., 0.])],\n",
       " [array([0., 0., 0., 0., 0., 0., 0., 0., 0., 0., 0.]),\n",
       "  array([1., 1., 1., 1., 0., 0., 0., 0., 0., 0., 1.]),\n",
       "  array([0., 0., 0., 0., 0., 0., 0., 0., 0., 0., 0.]),\n",
       "  array([0., 0., 0., 0., 0., 0., 0., 0., 0., 0., 0.]),\n",
       "  array([0., 0., 0., 0.])]]"
      ]
     },
     "metadata": {},
     "output_type": "display_data"
    },
    {
     "name": "stdout",
     "output_type": "stream",
     "text": [
      "Available actions p1:\n"
     ]
    },
    {
     "data": {
      "text/plain": [
       "[((0, 6), (2, 9)),\n",
       " ((0, 6), (2, 5)),\n",
       " ((0, 6), (3, 7)),\n",
       " ((0, 6), (3, 3)),\n",
       " ((0, 6), None),\n",
       " ((2, 6), (2, 9)),\n",
       " ((2, 6), (3, 7)),\n",
       " ((2, 6), (3, 3)),\n",
       " ((2, 6), None),\n",
       " ((3, 6), (2, 9)),\n",
       " ((3, 6), (2, 5)),\n",
       " ((3, 6), (3, 7)),\n",
       " ((3, 6), None),\n",
       " (None, (2, 9)),\n",
       " (None, (2, 5)),\n",
       " (None, (3, 7)),\n",
       " (None, (3, 3)),\n",
       " ((4, 0), None)]"
      ]
     },
     "metadata": {},
     "output_type": "display_data"
    },
    {
     "name": "stdout",
     "output_type": "stream",
     "text": [
      "Available actions p2:\n",
      "Points p1: 2.0\n",
      "Points p2: 21.0\n",
      "Clone turn number: 10\n",
      "Clone state (after changing clone state)\n"
     ]
    },
    {
     "data": {
      "text/plain": [
       "[[array([1., 0., 0., 0., 0., 1., 0., 0., 0., 0., 0.]),\n",
       "  array([0., 0., 0., 0., 0., 0., 0., 0., 0., 0., 1.]),\n",
       "  array([0., 0., 0., 0., 0., 0., 0., 0., 0., 0., 0.]),\n",
       "  array([0., 0., 0., 0., 0., 0., 0., 0., 0., 0., 0.]),\n",
       "  array([0., 0., 0., 0.])],\n",
       " [array([0., 0., 0., 0., 0., 0., 0., 0., 0., 0., 0.]),\n",
       "  array([1., 1., 1., 1., 0., 0., 0., 0., 0., 0., 1.]),\n",
       "  array([0., 0., 0., 0., 0., 0., 0., 0., 0., 0., 0.]),\n",
       "  array([0., 0., 0., 0., 0., 0., 0., 0., 0., 0., 0.]),\n",
       "  array([0., 0., 0., 0.])]]"
      ]
     },
     "metadata": {},
     "output_type": "display_data"
    },
    {
     "name": "stdout",
     "output_type": "stream",
     "text": [
      "Original state (after changing clone state)\n"
     ]
    },
    {
     "data": {
      "text/plain": [
       "[[array([0., 0., 0., 0., 0., 1., 0., 0., 0., 0., 0.]),\n",
       "  array([0., 0., 0., 0., 0., 0., 0., 0., 0., 0., 1.]),\n",
       "  array([0., 0., 0., 0., 0., 0., 0., 0., 0., 0., 0.]),\n",
       "  array([0., 0., 0., 0., 0., 0., 0., 0., 0., 0., 0.]),\n",
       "  array([0., 0., 0., 0.])],\n",
       " [array([0., 0., 0., 0., 0., 0., 0., 0., 0., 0., 0.]),\n",
       "  array([1., 1., 1., 1., 0., 0., 0., 0., 0., 0., 1.]),\n",
       "  array([0., 0., 0., 0., 0., 0., 0., 0., 0., 0., 0.]),\n",
       "  array([0., 0., 0., 0., 0., 0., 0., 0., 0., 0., 0.]),\n",
       "  array([0., 0., 0., 0.])]]"
      ]
     },
     "metadata": {},
     "output_type": "display_data"
    }
   ],
   "source": [
    "# Debug methods\n",
    "\n",
    "\n",
    "temp = QwixxEnv()\n",
    "diceThrow = temp.get_throw_all_dice()\n",
    "#diceThrow = {'white1': 6, 'white2': 6, 'red': 3, 'yellow': 3, 'green': 1, 'blue': 4}\n",
    "diceThrow = {'white1': 6, 'white2': 2, 'red': 1, 'yellow': 3, 'green': 5, 'blue': 3}\n",
    "display(diceThrow)\n",
    "\n",
    "observation = temp.reset()\n",
    "#print(observation)\n",
    "\n",
    "temp.get_state()[0][0][5] = 1\n",
    "temp.get_state()[0][1][10] = 1\n",
    "temp.get_state()[1][1][0] = 1  # Player 2 has closed yellow\n",
    "temp.get_state()[1][1][1] = 1  # Player 2 has closed yellow\n",
    "temp.get_state()[1][1][2] = 1  # Player 2 has closed yellow\n",
    "temp.get_state()[1][1][3] = 1  # Player 2 has closed yellow\n",
    "temp.get_state()[1][1][10] = 1  # Player 2 has closed yellow\n",
    "display(temp.get_state())\n",
    "temp.set_turn_number(10)\n",
    "\n",
    "print(\"Available actions p1:\")\n",
    "availableActionsP1 = temp.get_available_actions(diceThrow, 0)\n",
    "display(availableActionsP1)\n",
    "\n",
    "print(\"Available actions p2:\")\n",
    "availableActionsP2 = temp.get_available_actions(diceThrow, 1)\n",
    "#display(availableActionsP2)\n",
    "\n",
    "#print(\"points calculation:\")\n",
    "#print(temp._get_points_color_row(1, 5, 1))\n",
    "\n",
    "print(\"Points p1: \" + str(temp.get_points(0)))\n",
    "print(\"Points p2: \" + str(temp.get_points(1)))\n",
    "\n",
    "clone = temp.clone()\n",
    "clone.get_state()[0][0][0] = 1\n",
    "print(\"Clone turn number: \" + str(clone.turnNumber))\n",
    "\n",
    "\n",
    "print(\"Clone state (after changing clone state)\")\n",
    "display(clone.get_state())\n",
    "print(\"Original state (after changing clone state)\")\n",
    "display(temp.get_state())"
   ]
  },
  {
   "cell_type": "code",
   "execution_count": 463,
   "metadata": {},
   "outputs": [],
   "source": [
    "def performGames(nGamesParam, numberPlayersParam):\n",
    "    pointResults = []\n",
    "    for gameIndex in range(nGamesParam):\n",
    "        #gamePerformer = QwixxGamePerformer(numberPlayersParam, agents=[QwixxAgentMCTS(0), QwixxAgentRandom(1)])\n",
    "        #gamePerformer = QwixxGamePerformer(numberPlayersParam, agents=[QwixxAgentRandom(0), QwixxAgentMCTS(1)])\n",
    "        #gamePerformer = QwixxGamePerformer(numberPlayersParam, agents=[QwixxAgentRandom(0), QwixxAgentRandom(1)])\n",
    "        gamePerformer = QwixxGamePerformer(numberPlayersParam, agents=[QwixxAgentMCTS(0), QwixxAgentMCTS(1)])\n",
    "        \n",
    "        result = gamePerformer.perform_complete_game()\n",
    "\n",
    "        pointResults.append(result)\n",
    "\n",
    "        if gameIndex % 100 == 0:\n",
    "            print(\"At gameIndex=\" + str(gameIndex) + \"...\")\n",
    "    \n",
    "    if nGamesParam==1:\n",
    "        display(gamePerformer.env.get_state())\n",
    "    \n",
    "    return pointResults"
   ]
  },
  {
   "cell_type": "code",
   "execution_count": 464,
   "metadata": {},
   "outputs": [
    {
     "name": "stdout",
     "output_type": "stream",
     "text": [
      "At gameIndex=0...\n"
     ]
    },
    {
     "data": {
      "text/plain": [
       "[[array([0., 0., 0., 0., 0., 0., 0., 0., 1., 0., 0.]),\n",
       "  array([0., 1., 0., 0., 1., 0., 1., 0., 1., 0., 0.]),\n",
       "  array([0., 0., 0., 1., 0., 1., 0., 1., 1., 0., 0.]),\n",
       "  array([0., 0., 0., 0., 1., 1., 0., 1., 0., 0., 0.]),\n",
       "  array([1., 1., 1., 1.])],\n",
       " [array([0., 0., 0., 0., 0., 0., 1., 0., 1., 1., 0.]),\n",
       "  array([0., 0., 0., 0., 0., 1., 1., 1., 1., 0., 0.]),\n",
       "  array([0., 0., 0., 1., 1., 1., 0., 1., 0., 0., 0.]),\n",
       "  array([0., 0., 0., 0., 0., 0., 0., 1., 1., 0., 0.]),\n",
       "  array([1., 1., 1., 0.])]]"
      ]
     },
     "metadata": {},
     "output_type": "display_data"
    },
    {
     "data": {
      "text/plain": [
       "[[7.0, 14.0]]"
      ]
     },
     "execution_count": 464,
     "metadata": {},
     "output_type": "execute_result"
    }
   ],
   "source": [
    "performGames(1, 2)"
   ]
  },
  {
   "cell_type": "code",
   "execution_count": 465,
   "metadata": {
    "scrolled": false
   },
   "outputs": [
    {
     "name": "stdout",
     "output_type": "stream",
     "text": [
      "Performing 13 games per process..\n",
      "At gameIndex=0...\n",
      "At gameIndex=0...\n",
      "At gameIndex=0...\n",
      "At gameIndex=0...\n",
      "At gameIndex=0...\n",
      "At gameIndex=0...\n",
      "At gameIndex=0...\n",
      "At gameIndex=0...\n",
      "Done. len(pointResults)=104\n"
     ]
    }
   ],
   "source": [
    "nProcesses = 8\n",
    "pool = Pool(nProcesses)\n",
    "\n",
    "\n",
    "numberPlayers = 2\n",
    "\n",
    "nGames = 100\n",
    "nGamesPerProcess = math.ceil(nGames / nProcesses)\n",
    "print(\"Performing \" + str(nGamesPerProcess) + \" games per process..\")\n",
    "\n",
    "\n",
    "\n",
    "\n",
    "#results = pool.map(performGames, [nGamesPerProcess, agents])\n",
    "\n",
    "\n",
    "asyncResults = [pool.apply_async(performGames, [nGamesPerProcess, numberPlayers])\n",
    "                    for processIndex in range(nProcesses)]\n",
    "\n",
    "\n",
    "pointResults = []\n",
    "for processIndex in range(nProcesses):\n",
    "    pointResultsProcess = asyncResults[processIndex].get()\n",
    "    for i in range(len(pointResultsProcess)):\n",
    "        pointResults.append(pointResultsProcess[i])\n",
    "\n",
    "\n",
    "print(\"Done. len(pointResults)=\" + str(len(pointResults)))\n",
    "\n"
   ]
  },
  {
   "cell_type": "code",
   "execution_count": 466,
   "metadata": {},
   "outputs": [
    {
     "data": {
      "image/png": "[encoded data removed]",
      "text/plain": [
       "<Figure size 432x288 with 2 Axes>"
      ]
     },
     "metadata": {
      "needs_background": "light"
     },
     "output_type": "display_data"
    },
    {
     "data": {
      "text/plain": [
       "[54, 43]"
      ]
     },
     "metadata": {},
     "output_type": "display_data"
    },
    {
     "data": {
      "text/plain": [
       "1.31"
      ]
     },
     "metadata": {},
     "output_type": "display_data"
    }
   ],
   "source": [
    "\n",
    "pointResultsPerPlayer = []\n",
    "for playerIndex in range(numberPlayers):\n",
    "    pointResultsThisPlayer = [gameResult[playerIndex] for gameResult in pointResults]\n",
    "    pointResultsPerPlayer.append(pointResultsThisPlayer)\n",
    "\n",
    "#display(pointResultsPerPlayer)\n",
    "\n",
    "bins = np.linspace(-20, 100, 60)\n",
    "\n",
    "fig, ax = plt.subplots(1, numberPlayers)\n",
    "for playerIndex in range(numberPlayers):\n",
    "    ax[playerIndex].hist(pointResultsPerPlayer[playerIndex], bins, alpha=0.5, color=\"black\")\n",
    "\n",
    "plt.show()\n",
    "\n",
    "\n",
    "# Number of wins \n",
    "numWinsPerPlayer = []\n",
    "for playerIndex in range(numberPlayers):\n",
    "    numWins = 0\n",
    "    for gameIndex in range(nGames):\n",
    "        # If player has the most points (uniquely, not counting draws)\n",
    "        gameResult = pointResults[gameIndex]\n",
    "        if gameResult[playerIndex] == max(gameResult) and gameResult.count(max(gameResult))==1:\n",
    "            numWins += 1\n",
    "    numWinsPerPlayer.append(numWins)\n",
    "\n",
    "    \n",
    "display(numWinsPerPlayer)\n",
    "\n",
    "# Average distance\n",
    "distances = [  ]\n",
    "for gameIndex in range(nGames):\n",
    "    distances.append(pointResults[gameIndex][0] - pointResults[gameIndex][1])\n",
    "\n",
    "display(np.mean(distances))\n"
   ]
  },
  {
   "cell_type": "code",
   "execution_count": null,
   "metadata": {},
   "outputs": [],
   "source": [
    "# Actual learning\n",
    "\n",
    "for i_episode in range(20):\n",
    "    observation = env.reset()\n",
    "    for t in range(100):\n",
    "        #env.render()\n",
    "        print(observation)\n",
    "        action = env.action_space.sample() # perform exploration vs exploitation here\n",
    "        observation, reward, done, info = env.step(action)\n",
    "        if done:\n",
    "            print(\"Episode finished after {} timesteps\".format(t+1))\n",
    "            break"
   ]
  },
  {
   "cell_type": "code",
   "execution_count": null,
   "metadata": {},
   "outputs": [],
   "source": [
    "import gym\n",
    "env = gym.make('CartPole-v0')\n",
    "env.reset()\n",
    "env.render()"
   ]
  },
  {
   "cell_type": "code",
   "execution_count": null,
   "metadata": {},
   "outputs": [],
   "source": [
    "from gym import spaces\n",
    "space = spaces.Discrete(8) # Set with 8 elements {0, 1, 2, ..., 7}\n",
    "space.\n",
    "x = space.sample()\n",
    "print(x)\n",
    "print(space)\n",
    "print(space.contains(5))"
   ]
  },
  {
   "cell_type": "code",
   "execution_count": null,
   "metadata": {
    "scrolled": true
   },
   "outputs": [],
   "source": [
    "for i in range(10):\n",
    "    print(i)\n",
    "    \n",
    "temp = [(1, 2), (2, 3)]\n",
    "\n",
    "print(temp[0][0])"
   ]
  },
  {
   "cell_type": "code",
   "execution_count": null,
   "metadata": {},
   "outputs": [],
   "source": [
    "temp = [ [np.zeros(11) for i in range(4)] for playerIndex in range(2) ]\n",
    "\n",
    "#player, row, field inex\n",
    "temp[0].append(np.zeros(4))\n",
    "temp\n",
    "\n"
   ]
  },
  {
   "cell_type": "raw",
   "metadata": {},
   "source": [
    "result = []\n",
    "result[2] = np.zeros(5)"
   ]
  },
  {
   "cell_type": "code",
   "execution_count": null,
   "metadata": {},
   "outputs": [],
   "source": [
    "result = []\n",
    "result[2] = np.zeros(5)\n",
    "\n",
    "np.argmax"
   ]
  },
  {
   "cell_type": "code",
   "execution_count": null,
   "metadata": {},
   "outputs": [],
   "source": [
    "temp = np.zeros(4)\n",
    "temp[0] = 1\n",
    "temp[1] = 1\n",
    "temp = [1 for i in range(4)]\n",
    "# should return index=2\n",
    "sum(temp)\n",
    "print(temp)"
   ]
  },
  {
   "cell_type": "code",
   "execution_count": 88,
   "metadata": {},
   "outputs": [
    {
     "data": {
      "text/plain": [
       "2"
      ]
     },
     "execution_count": 88,
     "metadata": {},
     "output_type": "execute_result"
    }
   ],
   "source": [
    "([1, 2, 3, 3]).count(3)"
   ]
  },
  {
   "cell_type": "code",
   "execution_count": 450,
   "metadata": {},
   "outputs": [
    {
     "data": {
      "text/plain": [
       "2.0"
      ]
     },
     "execution_count": 450,
     "metadata": {},
     "output_type": "execute_result"
    }
   ],
   "source": [
    "np.mean([1, 2, 3])"
   ]
  }
 ],
 "metadata": {
  "kernelspec": {
   "display_name": "Python 3",
   "language": "python",
   "name": "python3"
  },
  "language_info": {
   "codemirror_mode": {
    "name": "ipython",
    "version": 3
   },
   "file_extension": ".py",
   "mimetype": "text/x-python",
   "name": "python",
   "nbconvert_exporter": "python",
   "pygments_lexer": "ipython3",
   "version": "3.6.6"
  }
 },
 "nbformat": 4,
 "nbformat_minor": 2
}
